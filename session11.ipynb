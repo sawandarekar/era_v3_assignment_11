{
 "cells": [
  {
   "cell_type": "code",
   "execution_count": 1,
   "metadata": {},
   "outputs": [
    {
     "name": "stdout",
     "output_type": "stream",
     "text": [
      "['', 'Tiger', '', '', 's', '', ' dead', '', '', ' I', '', '', 've', '', ' killed', '', ' it', '', '']\n"
     ]
    }
   ],
   "source": [
    "import regex as re\n",
    "pat = re.compile(r\"\"\"| ?\\p{L}+\"\"\")\n",
    "print(re.findall(pat, \"Tiger's dead. I've killed it!\"))"
   ]
  },
  {
   "cell_type": "code",
   "execution_count": 2,
   "metadata": {},
   "outputs": [
    {
     "name": "stdout",
     "output_type": "stream",
     "text": [
      "['Tiger', \"'s\", ' dead', '', ' I', \"'ve\", ' killed', '123', ' it', '', '']\n"
     ]
    }
   ],
   "source": [
    "import regex as re\n",
    "pat = re.compile(r\"\"\"'s|'ve| ?\\p{L}+| ?\\p{N}+|\"\"\")\n",
    "print(re.findall(pat, \"Tiger's dead. I've killed123 it!\"))"
   ]
  }
 ],
 "metadata": {
  "kernelspec": {
   "display_name": "Python 3",
   "language": "python",
   "name": "python3"
  },
  "language_info": {
   "codemirror_mode": {
    "name": "ipython",
    "version": 3
   },
   "file_extension": ".py",
   "mimetype": "text/x-python",
   "name": "python",
   "nbconvert_exporter": "python",
   "pygments_lexer": "ipython3",
   "version": "3.11.11"
  }
 },
 "nbformat": 4,
 "nbformat_minor": 2
}
